{
 "cells": [
  {
   "cell_type": "code",
   "execution_count": 1,
   "id": "4203bfdb-85b5-4497-ae68-e7cbfed362ea",
   "metadata": {},
   "outputs": [],
   "source": [
    "import csv\n",
    "import pandas as pd\n",
    "from pathlib import Path\n",
    "\n",
    "file_to_load = Path(\"C:/Users/rukky/Downloads/budget_data.csv\")\n",
    "file_to_output = Path(\"C:/Users/rukky/Downloads/budget_data_results.txt\")\n"
   ]
  },
  {
   "cell_type": "code",
   "execution_count": 2,
   "id": "3d73865d-4147-4e2d-9017-e9574d263b61",
   "metadata": {},
   "outputs": [],
   "source": [
    "df=pd.read_csv(file_to_load)"
   ]
  },
  {
   "cell_type": "code",
   "execution_count": 3,
   "id": "c56888c2-e19b-449f-90cc-1254b87ff034",
   "metadata": {},
   "outputs": [
    {
     "name": "stdout",
     "output_type": "stream",
     "text": [
      "86\n"
     ]
    }
   ],
   "source": [
    "#The total number of months included in the datase\n",
    "total_months=len(df.loc[:,\"Date\"])\n",
    "print(total_months)"
   ]
  },
  {
   "cell_type": "code",
   "execution_count": 4,
   "id": "dd4069a6-9a3f-490a-8686-b9d468e2abee",
   "metadata": {},
   "outputs": [
    {
     "data": {
      "text/plain": [
       "0     867884\n",
       "1     984655\n",
       "2     322013\n",
       "3     -69417\n",
       "4     310503\n",
       "       ...  \n",
       "81    102685\n",
       "82    795914\n",
       "83     60988\n",
       "84    138230\n",
       "85    671099\n",
       "Name: Profit/Losses, Length: 86, dtype: int64"
      ]
     },
     "execution_count": 4,
     "metadata": {},
     "output_type": "execute_result"
    }
   ],
   "source": [
    "df.loc[:,\"Profit/Losses\"]"
   ]
  },
  {
   "cell_type": "code",
   "execution_count": 5,
   "id": "430424fa-5842-4aaa-a3b8-c4b8c80093d7",
   "metadata": {},
   "outputs": [
    {
     "name": "stdout",
     "output_type": "stream",
     "text": [
      "38382578\n"
     ]
    }
   ],
   "source": [
    "#The net total amount of Profit/Losses over the entire period\n",
    "total_net=df[\"Profit/Losses\"]. sum()\n",
    "print(total_net)"
   ]
  },
  {
   "cell_type": "code",
   "execution_count": 6,
   "id": "bfd8ddf0-51c8-4ec5-a8c4-4f9516d16959",
   "metadata": {},
   "outputs": [
    {
     "ename": "NameError",
     "evalue": "name 'greatest_increase' is not defined",
     "output_type": "error",
     "traceback": [
      "\u001b[1;31m---------------------------------------------------------------------------\u001b[0m",
      "\u001b[1;31mNameError\u001b[0m                                 Traceback (most recent call last)",
      "\u001b[1;32m~\\AppData\\Local\\Temp/ipykernel_26704/827752934.py\u001b[0m in \u001b[0;36m<module>\u001b[1;34m\u001b[0m\n\u001b[0;32m      4\u001b[0m     \u001b[0mtemp_increase\u001b[0m \u001b[1;33m=\u001b[0m \u001b[0mdf\u001b[0m\u001b[1;33m.\u001b[0m\u001b[0mloc\u001b[0m\u001b[1;33m[\u001b[0m\u001b[1;33m:\u001b[0m\u001b[1;33m,\u001b[0m\u001b[1;34m\"Profit/Losses\"\u001b[0m\u001b[1;33m]\u001b[0m\u001b[1;33m[\u001b[0m\u001b[0mpos\u001b[0m\u001b[1;33m+\u001b[0m\u001b[1;36m1\u001b[0m\u001b[1;33m]\u001b[0m \u001b[1;33m-\u001b[0m \u001b[0mdf\u001b[0m\u001b[1;33m.\u001b[0m\u001b[0mloc\u001b[0m\u001b[1;33m[\u001b[0m\u001b[1;33m:\u001b[0m\u001b[1;33m,\u001b[0m\u001b[1;34m\"Profit/Losses\"\u001b[0m\u001b[1;33m]\u001b[0m\u001b[1;33m[\u001b[0m\u001b[0mpos\u001b[0m\u001b[1;33m]\u001b[0m\u001b[1;33m\u001b[0m\u001b[1;33m\u001b[0m\u001b[0m\n\u001b[0;32m      5\u001b[0m     \u001b[0mnet_change\u001b[0m\u001b[1;33m.\u001b[0m\u001b[0mappend\u001b[0m\u001b[1;33m(\u001b[0m\u001b[0mtemp_increase\u001b[0m\u001b[1;33m)\u001b[0m\u001b[1;33m\u001b[0m\u001b[1;33m\u001b[0m\u001b[0m\n\u001b[1;32m----> 6\u001b[1;33m     \u001b[1;32mif\u001b[0m\u001b[1;33m(\u001b[0m\u001b[0mtemp_increase\u001b[0m \u001b[1;33m>\u001b[0m \u001b[0mgreatest_increase\u001b[0m\u001b[1;33m)\u001b[0m\u001b[1;33m:\u001b[0m\u001b[1;33m\u001b[0m\u001b[1;33m\u001b[0m\u001b[0m\n\u001b[0m\u001b[0;32m      7\u001b[0m             \u001b[0mgreatest_increase\u001b[0m \u001b[1;33m=\u001b[0m \u001b[0mtemp_increase\u001b[0m\u001b[1;33m\u001b[0m\u001b[1;33m\u001b[0m\u001b[0m\n\u001b[0;32m      8\u001b[0m \u001b[1;33m\u001b[0m\u001b[0m\n",
      "\u001b[1;31mNameError\u001b[0m: name 'greatest_increase' is not defined"
     ]
    }
   ],
   "source": [
    "#The average of the changes in Profit/Losses over the entire period\n",
    "net_change = []\n",
    "for pos, num in enumerate(df.loc[:,\"Profit/Losses\"]):\n",
    "    temp_increase = df.loc[:,\"Profit/Losses\"][pos+1] - df.loc[:,\"Profit/Losses\"][pos]\n",
    "    net_change.append(temp_increase)\n",
    "    if(temp_increase > greatest_increase):\n",
    "            greatest_increase = temp_increase \n",
    "            \n",
    "    if( pos == (len(df.loc[:,\"Profit/Losses\"]) - 2)):\n",
    "        break\n",
    "net_average_change=sum(net_change)/len(net_change)\n",
    "net_average_change\n"
   ]
  },
  {
   "cell_type": "code",
   "execution_count": null,
   "id": "6b986b32-72b3-40ca-be83-07ab4e515309",
   "metadata": {},
   "outputs": [],
   "source": [
    "#The greatest increase in profits (date and amount) over the entire period\n",
    "greatest_increase = 0\n",
    "greatest_increase_date =''\n",
    "for pos, num in enumerate(df.loc[:,\"Profit/Losses\"]):\n",
    "    temp_increase = df.loc[:,\"Profit/Losses\"][pos+1] - df.loc[:,\"Profit/Losses\"][pos]\n",
    "    if(temp_increase > greatest_increase):#did i find the greatest increase?\n",
    "            greatest_increase = temp_increase #yes i did\n",
    "            greatest_increase_date=df.loc[:,\"Date\"][pos+1]\n",
    "    if( pos == (len(df.loc[:,\"Profit/Losses\"]) - 2)):\n",
    "        break\n",
    "print(greatest_increase,greatest_increase_date)\n",
    "greatest_increase\n",
    "greatest_increase_date"
   ]
  },
  {
   "cell_type": "code",
   "execution_count": null,
   "id": "dddb19c3-e72f-4f8a-a289-886be149802f",
   "metadata": {},
   "outputs": [],
   "source": [
    "#The greatest decrease in losses (date and amount) over the entire period\n",
    "greatest_decrease = 0\n",
    "greatest_decrease_date=''\n",
    "for pos, num in enumerate(df.loc[:,\"Profit/Losses\"]):\n",
    "    temp_decrease = df.loc[:,\"Profit/Losses\"][pos+1] - df.loc[:,\"Profit/Losses\"][pos]\n",
    "    if(temp_decrease < greatest_decrease):\n",
    "            greatest_decrease = temp_decrease\n",
    "            greatest_decrease_date=df.loc[:,\"Date\"][pos+1]\n",
    "    if( pos == (len(df.loc[:,\"Profit/Losses\"]) - 2)):\n",
    "        break\n",
    "print(greatest_decrease, greatest_decrease_date)\n",
    "greatest_decrease\n",
    "greatest_decrease_date"
   ]
  },
  {
   "cell_type": "code",
   "execution_count": 7,
   "id": "b732edbb-7df6-49a5-91e9-851ef9746368",
   "metadata": {},
   "outputs": [
    {
     "ename": "NameError",
     "evalue": "name 'greatest_increase' is not defined",
     "output_type": "error",
     "traceback": [
      "\u001b[1;31m---------------------------------------------------------------------------\u001b[0m",
      "\u001b[1;31mNameError\u001b[0m                                 Traceback (most recent call last)",
      "\u001b[1;32m~\\AppData\\Local\\Temp/ipykernel_26704/4057757160.py\u001b[0m in \u001b[0;36m<module>\u001b[1;34m\u001b[0m\n\u001b[0;32m      4\u001b[0m     \u001b[0mtemp_increase\u001b[0m \u001b[1;33m=\u001b[0m \u001b[0mdf\u001b[0m\u001b[1;33m.\u001b[0m\u001b[0mloc\u001b[0m\u001b[1;33m[\u001b[0m\u001b[1;33m:\u001b[0m\u001b[1;33m,\u001b[0m\u001b[1;34m\"Profit/Losses\"\u001b[0m\u001b[1;33m]\u001b[0m\u001b[1;33m[\u001b[0m\u001b[0mpos\u001b[0m\u001b[1;33m+\u001b[0m\u001b[1;36m1\u001b[0m\u001b[1;33m]\u001b[0m \u001b[1;33m-\u001b[0m \u001b[0mdf\u001b[0m\u001b[1;33m.\u001b[0m\u001b[0mloc\u001b[0m\u001b[1;33m[\u001b[0m\u001b[1;33m:\u001b[0m\u001b[1;33m,\u001b[0m\u001b[1;34m\"Profit/Losses\"\u001b[0m\u001b[1;33m]\u001b[0m\u001b[1;33m[\u001b[0m\u001b[0mpos\u001b[0m\u001b[1;33m]\u001b[0m\u001b[1;33m\u001b[0m\u001b[1;33m\u001b[0m\u001b[0m\n\u001b[0;32m      5\u001b[0m     \u001b[0mnet_change\u001b[0m\u001b[1;33m.\u001b[0m\u001b[0mappend\u001b[0m\u001b[1;33m(\u001b[0m\u001b[0mtemp_increase\u001b[0m\u001b[1;33m)\u001b[0m\u001b[1;33m\u001b[0m\u001b[1;33m\u001b[0m\u001b[0m\n\u001b[1;32m----> 6\u001b[1;33m     \u001b[1;32mif\u001b[0m\u001b[1;33m(\u001b[0m\u001b[0mtemp_increase\u001b[0m \u001b[1;33m>\u001b[0m \u001b[0mgreatest_increase\u001b[0m\u001b[1;33m)\u001b[0m\u001b[1;33m:\u001b[0m\u001b[1;33m\u001b[0m\u001b[1;33m\u001b[0m\u001b[0m\n\u001b[0m\u001b[0;32m      7\u001b[0m             \u001b[0mgreatest_increase\u001b[0m \u001b[1;33m=\u001b[0m \u001b[0mtemp_increase\u001b[0m\u001b[1;33m\u001b[0m\u001b[1;33m\u001b[0m\u001b[0m\n\u001b[0;32m      8\u001b[0m \u001b[1;33m\u001b[0m\u001b[0m\n",
      "\u001b[1;31mNameError\u001b[0m: name 'greatest_increase' is not defined"
     ]
    }
   ],
   "source": [
    "#The average of the changes in Profit/Losses over the entire period\n",
    "net_change = []\n",
    "for pos, num in enumerate(df.loc[:,\"Profit/Losses\"]):\n",
    "    temp_increase = df.loc[:,\"Profit/Losses\"][pos+1] - df.loc[:,\"Profit/Losses\"][pos]\n",
    "    net_change.append(temp_increase)\n",
    "    if(temp_increase > greatest_increase):\n",
    "            greatest_increase = temp_increase \n",
    "            \n",
    "    if( pos == (len(df.loc[:,\"Profit/Losses\"]) - 2)):\n",
    "        break\n",
    "net_average_change=sum(net_change)/len(net_change)\n",
    "net_average_change"
   ]
  },
  {
   "cell_type": "code",
   "execution_count": null,
   "id": "32c08243-0b92-42ea-8c42-c44be1ff7d07",
   "metadata": {},
   "outputs": [],
   "source": [
    "print(file_to_output)"
   ]
  },
  {
   "cell_type": "code",
   "execution_count": null,
   "id": "301fea17-7680-4523-b17a-8f5ef5f6f399",
   "metadata": {},
   "outputs": [],
   "source": [
    "# Export the results to text file\n",
    "with open(file_to_output, \"w\") as txt_file:\n",
    "    txt_file.write(f\"Financial Analysis\\n\")\n",
    "    txt_file.write(f\"----------------------------\\n\")\n",
    "    txt_file.write(f\"Total Months: {total_months}\\n\")\n",
    "    txt_file.write(f\"Total: ${total_net}\\n\")\n",
    "    txt_file.write(f\"Average  Change: ${net_average_change}\\n\")\n",
    "    txt_file.write(f\"Greatest Increase in Profits:${greatest_increase} ${greatest_increase_date}\\n\")\n",
    "    txt_file.write(f\"Greatest Decrease in Profits:${greatest_decrease} ${greatest_decrease_date}\\n\")"
   ]
  },
  {
   "cell_type": "code",
   "execution_count": null,
   "id": "eae4dbbb-89c5-467c-8244-2b1b17f6d77e",
   "metadata": {},
   "outputs": [],
   "source": []
  },
  {
   "cell_type": "code",
   "execution_count": null,
   "id": "8ef2fc8c-a40b-4e14-922a-aaf3626a5ae1",
   "metadata": {},
   "outputs": [],
   "source": []
  }
 ],
 "metadata": {
  "kernelspec": {
   "display_name": "Python 3 (ipykernel)",
   "language": "python",
   "name": "python3"
  },
  "language_info": {
   "codemirror_mode": {
    "name": "ipython",
    "version": 3
   },
   "file_extension": ".py",
   "mimetype": "text/x-python",
   "name": "python",
   "nbconvert_exporter": "python",
   "pygments_lexer": "ipython3",
   "version": "3.7.11"
  }
 },
 "nbformat": 4,
 "nbformat_minor": 5
}
