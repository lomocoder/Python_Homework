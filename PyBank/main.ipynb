{
 "cells": [
  {
   "cell_type": "code",
   "execution_count": 27,
   "id": "24b819ae-a788-4708-96b7-7fef22e9494b",
   "metadata": {},
   "outputs": [],
   "source": [
    "#import csv file first \n",
    "#The total number of months included in the dataset. which will be done by using a code to count the number of 'date'\n",
    "#The net total amount of Profit/Losses over the entire period. which will be done by adding the values in the \"profit/loss\"\n",
    "#The average of the changes in Profit/Losses over the entire period. this will be done by diving total period by total pnl\n",
    "#The greatest increase in profits (date and amount) over the entire period.\n",
    "#The greatest decrease in losses (date and amount) over the entire period.\n",
    "##import csv\n",
    "#convert the price column to a list\n",
    "#price_list =  [100,210,300,4,500,6]  # 0, 1, 2,3,4,5,98, 99   secondtolast, length=100\n",
    "\n",
    "#increase = 0\n",
    "#for pos, num in enumerate(price_list):\n",
    "   # value = price_list[pos+1] - price_list[pos] \n",
    "   # if(value > increase):\n",
    "    #    increase = value\n",
    "   # if( pos == (len(price_list) - 2)):\n",
    "   #     break\n",
    "#print(increase)"
   ]
  },
  {
   "cell_type": "code",
   "execution_count": 30,
   "id": "a9b76df0-22cc-46cf-8422-049a43674051",
   "metadata": {},
   "outputs": [
    {
     "name": "stdout",
     "output_type": "stream",
     "text": [
      "        Date  Profit/Losses\n",
      "0   Jan-2010         867884\n",
      "1   Feb-2010         984655\n",
      "2   Mar-2010         322013\n",
      "3   Apr-2010         -69417\n",
      "4   May-2010         310503\n",
      "..       ...            ...\n",
      "81  Oct-2016         102685\n",
      "82  Nov-2016         795914\n",
      "83  Dec-2016          60988\n",
      "84  Jan-2017         138230\n",
      "85  Feb-2017         671099\n",
      "\n",
      "[86 rows x 2 columns]\n"
     ]
    }
   ],
   "source": [
    "import pandas as pd\n",
    "df= pd.read_csv (r\"C:\\Users\\rukky\\Downloads\\budget_data.csv\")\n",
    "\n",
    "print(df)"
   ]
  },
  {
   "cell_type": "code",
   "execution_count": 217,
   "id": "c56888c2-e19b-449f-90cc-1254b87ff034",
   "metadata": {},
   "outputs": [
    {
     "name": "stdout",
     "output_type": "stream",
     "text": [
      "86\n"
     ]
    }
   ],
   "source": [
    "#The total number of months included in the datase\n",
    "total_months=len(df.loc[:,\"Date\"])\n",
    "print(total_months)"
   ]
  },
  {
   "cell_type": "code",
   "execution_count": 160,
   "id": "dd4069a6-9a3f-490a-8686-b9d468e2abee",
   "metadata": {},
   "outputs": [
    {
     "data": {
      "text/plain": [
       "0     867884\n",
       "1     984655\n",
       "2     322013\n",
       "3     -69417\n",
       "4     310503\n",
       "       ...  \n",
       "81    102685\n",
       "82    795914\n",
       "83     60988\n",
       "84    138230\n",
       "85    671099\n",
       "Name: Profit/Losses, Length: 86, dtype: int64"
      ]
     },
     "execution_count": 160,
     "metadata": {},
     "output_type": "execute_result"
    }
   ],
   "source": [
    "df.loc[:,\"Profit/Losses\"]"
   ]
  },
  {
   "cell_type": "code",
   "execution_count": 196,
   "id": "430424fa-5842-4aaa-a3b8-c4b8c80093d7",
   "metadata": {},
   "outputs": [
    {
     "name": "stdout",
     "output_type": "stream",
     "text": [
      "38382578\n"
     ]
    }
   ],
   "source": [
    "#The net total amount of Profit/Losses over the entire period\n",
    "total_net=df[\"Profit/Losses\"]. sum()\n",
    "print(total_net)"
   ]
  },
  {
   "cell_type": "code",
   "execution_count": 216,
   "id": "bfd8ddf0-51c8-4ec5-a8c4-4f9516d16959",
   "metadata": {},
   "outputs": [
    {
     "data": {
      "text/plain": [
       "-2315.1176470588234"
      ]
     },
     "execution_count": 216,
     "metadata": {},
     "output_type": "execute_result"
    }
   ],
   "source": [
    "#The average of the changes in Profit/Losses over the entire period\n",
    "net_change = []\n",
    "for pos, num in enumerate(df.loc[:,\"Profit/Losses\"]):\n",
    "    temp_increase = df.loc[:,\"Profit/Losses\"][pos+1] - df.loc[:,\"Profit/Losses\"][pos]\n",
    "    net_change.append(temp_increase)\n",
    "    if(temp_increase > greatest_increase):\n",
    "            greatest_increase = temp_increase \n",
    "            \n",
    "    if( pos == (len(df.loc[:,\"Profit/Losses\"]) - 2)):\n",
    "        break\n",
    "net_average_change=sum(net_change)/len(net_change)\n",
    "net_average_change\n"
   ]
  },
  {
   "cell_type": "code",
   "execution_count": 227,
   "id": "6b986b32-72b3-40ca-be83-07ab4e515309",
   "metadata": {},
   "outputs": [
    {
     "name": "stdout",
     "output_type": "stream",
     "text": [
      "1926159 Feb-2012\n"
     ]
    },
    {
     "data": {
      "text/plain": [
       "'Feb-2012'"
      ]
     },
     "execution_count": 227,
     "metadata": {},
     "output_type": "execute_result"
    }
   ],
   "source": [
    "#The greatest increase in profits (date and amount) over the entire period\n",
    "greatest_increase = 0\n",
    "greatest_increase_date =''\n",
    "for pos, num in enumerate(df.loc[:,\"Profit/Losses\"]):\n",
    "    temp_increase = df.loc[:,\"Profit/Losses\"][pos+1] - df.loc[:,\"Profit/Losses\"][pos]\n",
    "    if(temp_increase > greatest_increase):#did i find the greatest increase?\n",
    "            greatest_increase = temp_increase #yes i did\n",
    "            greatest_increase_date=df.loc[:,\"Date\"][pos+1]\n",
    "    if( pos == (len(df.loc[:,\"Profit/Losses\"]) - 2)):\n",
    "        break\n",
    "print(greatest_increase,greatest_increase_date)\n",
    "greatest_increase\n",
    "greatest_increase_date"
   ]
  },
  {
   "cell_type": "code",
   "execution_count": 231,
   "id": "dddb19c3-e72f-4f8a-a289-886be149802f",
   "metadata": {},
   "outputs": [
    {
     "name": "stdout",
     "output_type": "stream",
     "text": [
      "-2196167 Sep-2013\n"
     ]
    },
    {
     "data": {
      "text/plain": [
       "'Sep-2013'"
      ]
     },
     "execution_count": 231,
     "metadata": {},
     "output_type": "execute_result"
    }
   ],
   "source": [
    "#The greatest decrease in losses (date and amount) over the entire period\n",
    "greatest_decrease = 0\n",
    "greatest_decrease_date=''\n",
    "for pos, num in enumerate(df.loc[:,\"Profit/Losses\"]):\n",
    "    temp_decrease = df.loc[:,\"Profit/Losses\"][pos+1] - df.loc[:,\"Profit/Losses\"][pos]\n",
    "    if(temp_decrease < greatest_decrease):\n",
    "            greatest_decrease = temp_decrease\n",
    "            greatest_decrease_date=df.loc[:,\"Date\"][pos+1]\n",
    "    if( pos == (len(df.loc[:,\"Profit/Losses\"]) - 2)):\n",
    "        break\n",
    "print(greatest_decrease, greatest_decrease_date)\n",
    "greatest_decrease\n",
    "greatest_decrease_date"
   ]
  },
  {
   "cell_type": "code",
   "execution_count": 151,
   "id": "87d3a52d-c0de-4f38-ba42-255395c31e2c",
   "metadata": {},
   "outputs": [],
   "source": [
    "import csv\n",
    "from pathlib import Path\n",
    "\n",
    "file_to_load = Path(\"C:/Users/rukky/Downloads/budget_data.csv\")\n",
    "file_to_output = Path(\"C:/Users/rukky/Downloads/budget_data_results.txt\")\n"
   ]
  },
  {
   "cell_type": "code",
   "execution_count": 154,
   "id": "32c08243-0b92-42ea-8c42-c44be1ff7d07",
   "metadata": {},
   "outputs": [
    {
     "name": "stdout",
     "output_type": "stream",
     "text": [
      "C:\\Users\\rukky\\Downloads\\budget_data_results.txt\n"
     ]
    }
   ],
   "source": [
    "print(file_to_output)"
   ]
  },
  {
   "cell_type": "code",
   "execution_count": 234,
   "id": "301fea17-7680-4523-b17a-8f5ef5f6f399",
   "metadata": {},
   "outputs": [],
   "source": [
    "# Export the results to text file\n",
    "with open(file_to_output, \"w\") as txt_file:\n",
    "    txt_file.write(f\"Financial Analysis\\n\")\n",
    "    txt_file.write(f\"----------------------------\\n\")\n",
    "    txt_file.write(f\"Total Months: {total_months}\\n\")\n",
    "    txt_file.write(f\"Total: ${total_net}\\n\")\n",
    "    txt_file.write(f\"Average  Change: ${net_average_change}\\n\")\n",
    "    txt_file.write(f\"Greatest Increase in Profits:${greatest_increase} ${greatest_increase_date}\\n\")\n",
    "    txt_file.write(f\"Greatest Decrease in Profits:${greatest_decrease} ${greatest_decrease_date}\\n\")"
   ]
  },
  {
   "cell_type": "code",
   "execution_count": null,
   "id": "4d96b68d-a6c7-45a1-a5fd-8931989de0f8",
   "metadata": {},
   "outputs": [],
   "source": []
  },
  {
   "cell_type": "code",
   "execution_count": null,
   "id": "75383d28-dbce-4e0e-a424-03f5670f773e",
   "metadata": {},
   "outputs": [],
   "source": []
  }
 ],
 "metadata": {
  "kernelspec": {
   "display_name": "Python 3 (ipykernel)",
   "language": "python",
   "name": "python3"
  },
  "language_info": {
   "codemirror_mode": {
    "name": "ipython",
    "version": 3
   },
   "file_extension": ".py",
   "mimetype": "text/x-python",
   "name": "python",
   "nbconvert_exporter": "python",
   "pygments_lexer": "ipython3",
   "version": "3.9.7"
  }
 },
 "nbformat": 4,
 "nbformat_minor": 5
}
